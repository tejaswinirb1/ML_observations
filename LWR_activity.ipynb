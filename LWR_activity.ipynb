{
  "nbformat": 4,
  "nbformat_minor": 0,
  "metadata": {
    "colab": {
      "provenance": [],
      "authorship_tag": "ABX9TyPTjz2uCBeKEaB9bPoe5+QN",
      "include_colab_link": true
    },
    "kernelspec": {
      "name": "python3",
      "display_name": "Python 3"
    },
    "language_info": {
      "name": "python"
    }
  },
  "cells": [
    {
      "cell_type": "markdown",
      "metadata": {
        "id": "view-in-github",
        "colab_type": "text"
      },
      "source": [
        "<a href=\"https://colab.research.google.com/github/tejaswinirb1/ML_observations/blob/main/LWR_activity.ipynb\" target=\"_parent\"><img src=\"https://colab.research.google.com/assets/colab-badge.svg\" alt=\"Open In Colab\"/></a>"
      ]
    },
    {
      "cell_type": "markdown",
      "source": [
        "Activity to complete:\n",
        "\n",
        "Consider two more features and implement the algorithm\n",
        "Implement the same for Diabetes dataset available in sklearn.datasets\n",
        "Compare KNN regression and Local weighted regression (LWR) algorithm considering multiple features for both housing dataset and Diabetes dataset."
      ],
      "metadata": {
        "id": "yF9r4C_WS9pH"
      }
    },
    {
      "cell_type": "code",
      "execution_count": 2,
      "metadata": {
        "colab": {
          "base_uri": "https://localhost:8080/"
        },
        "id": "LiGhrfefO7Cm",
        "outputId": "645b67a6-ccbf-47b0-bfa1-38361abf579a"
      },
      "outputs": [
        {
          "output_type": "stream",
          "name": "stdout",
          "text": [
            "Predicted median house value: 205990.04694565106\n"
          ]
        }
      ],
      "source": [
        "import pandas as pd\n",
        "import numpy as np\n",
        "\n",
        "def locally_weighted_regression(X, Y, tau, x_query):\n",
        "    weights = np.exp(-np.sum((X - x_query)**2, axis=1) / (2 * tau**2))\n",
        "    X_augmented = np.c_[np.ones(X.shape[0]), X]\n",
        "    x_query_augmented = np.concatenate(([1], x_query)).reshape(1, -1)\n",
        "    W = np.diag(weights)\n",
        "    X_transpose_W = X_augmented.T @ W\n",
        "    theta = np.linalg.pinv(X_transpose_W @ X_augmented) @ X_transpose_W @ Y\n",
        "    return x_query_augmented @ theta\n",
        "\n",
        "# Load the housing dataset\n",
        "db = pd.read_csv('housing.csv')\n",
        "\n",
        "# Select features: housing_median_age, total_rooms, population\n",
        "X = db[['housing_median_age', 'total_rooms', 'population']].values\n",
        "Y = db['median_house_value'].values\n",
        "\n",
        "# Example query point\n",
        "X_Query = np.array([41, 2500, 1200])  # Example values for the 3 features\n",
        "tau = 10  # Adjust bandwidth as needed\n",
        "\n",
        "# Predict\n",
        "y_query = locally_weighted_regression(X, Y, tau, X_Query)\n",
        "print(f\"Predicted median house value: {y_query[0]}\")"
      ]
    },
    {
      "cell_type": "markdown",
      "source": [
        "#Observation:\n",
        "This is the predicted median house value for the given query point (house features: [41, 2500, 1200]) using Locally Weighted Regression. It provides a single point estimate based on the local data points."
      ],
      "metadata": {
        "id": "7QPQmW1KTFXe"
      }
    },
    {
      "cell_type": "code",
      "source": [
        "from sklearn.datasets import load_diabetes\n",
        "from sklearn.preprocessing import StandardScaler\n",
        "import numpy as np\n",
        "\n",
        "# Load and preprocess the diabetes dataset\n",
        "diabetes = load_diabetes()\n",
        "X_d = diabetes.data\n",
        "Y_d = diabetes.target\n",
        "scaler = StandardScaler()\n",
        "X_d_scaled = scaler.fit_transform(X_d)\n",
        "\n",
        "# Use the same locally_weighted_regression function from Activity 1\n",
        "\n",
        "# Example query point (mean of dataset)\n",
        "X_Query_d = np.mean(X_d_scaled, axis=0)\n",
        "tau = 0.5  # Adjust bandwidth as needed\n",
        "\n",
        "# Predict\n",
        "y_query_d = locally_weighted_regression(X_d_scaled, Y_d, tau, X_Query_d)\n",
        "print(f\"Predicted disease progression value: {y_query_d[0]}\")"
      ],
      "metadata": {
        "colab": {
          "base_uri": "https://localhost:8080/"
        },
        "id": "fxnFY1auQIBV",
        "outputId": "9c09a730-25e7-4eb6-f942-94ed59e88e8b"
      },
      "execution_count": 4,
      "outputs": [
        {
          "output_type": "stream",
          "name": "stdout",
          "text": [
            "Predicted disease progression value: 170.90977125258212\n"
          ]
        }
      ]
    },
    {
      "cell_type": "markdown",
      "source": [
        "This is the predicted disease progression value for the query point (mean of the dataset) using Locally Weighted Regression. Similar to Program 1, it provides a single point estimate based on the data points in the vicinity of the query point."
      ],
      "metadata": {
        "id": "MyWH0enGTV7G"
      }
    },
    {
      "cell_type": "code",
      "source": [
        "from sklearn.neighbors import KNeighborsRegressor\n",
        "from sklearn.model_selection import train_test_split\n",
        "from sklearn.metrics import mean_squared_error\n",
        "import numpy as np\n",
        "\n",
        "# ... (locally_weighted_regression function from Activity 1) ...\n",
        "\n",
        "# Prepare data (housing and diabetes) - using the same data preparation as in previous activities\n",
        "# ...\n",
        "\n",
        "# Split data into training and testing sets\n",
        "X_h_train, X_h_test, Y_h_train, Y_h_test = train_test_split(X, Y, test_size=0.2, random_state=42)\n",
        "X_d_train, X_d_test, Y_d_train, Y_d_test = train_test_split(X_d_scaled, Y_d, test_size=0.2, random_state=42)\n",
        "\n",
        "# Train KNN models\n",
        "knn_h = KNeighborsRegressor(n_neighbors=5)  # Housing\n",
        "knn_d = KNeighborsRegressor(n_neighbors=5)  # Diabetes\n",
        "knn_h.fit(X_h_train, Y_h_train)\n",
        "knn_d.fit(X_d_train, Y_d_train)\n",
        "\n",
        "# Make predictions with KNN\n",
        "knn_preds_h = knn_h.predict(X_h_test)\n",
        "knn_preds_d = knn_d.predict(X_d_test)\n",
        "\n",
        "# Make predictions with LWR (for a subset of test data due to computation)\n",
        "lwr_preds_h = [locally_weighted_regression(X_h_train, Y_h_train, tau=10, x_query=x) for x in X_h_test[:50]]\n",
        "lwr_preds_d = [locally_weighted_regression(X_d_train, Y_d_train, tau=0.5, x_query=x) for x in X_d_test[:50]]\n",
        "lwr_preds_h = np.array(lwr_preds_h).reshape(-1)  # Reshape to 1D array\n",
        "lwr_preds_d = np.array(lwr_preds_d).reshape(-1)  # Reshape to 1D array\n",
        "\n",
        "\n",
        "# Evaluate and compare using Mean Squared Error (MSE)\n",
        "mse_knn_h = mean_squared_error(Y_h_test, knn_preds_h)\n",
        "mse_lwr_h = mean_squared_error(Y_h_test[:50], lwr_preds_h)\n",
        "mse_knn_d = mean_squared_error(Y_d_test, knn_preds_d)\n",
        "mse_lwr_d = mean_squared_error(Y_d_test[:50], lwr_preds_d)\n",
        "\n",
        "print(f\"Housing Dataset - KNN MSE: {mse_knn_h}, LWR MSE: {mse_lwr_h}\")\n",
        "print(f\"Diabetes Dataset - KNN MSE: {mse_knn_d}, LWR MSE: {mse_lwr_d}\")"
      ],
      "metadata": {
        "colab": {
          "base_uri": "https://localhost:8080/"
        },
        "id": "uvAWc3r2QJ0e",
        "outputId": "1e7bd6a3-5ccd-49ff-88ac-8837f4afbe03"
      },
      "execution_count": 6,
      "outputs": [
        {
          "output_type": "stream",
          "name": "stdout",
          "text": [
            "Housing Dataset - KNN MSE: 11278255164.991802, LWR MSE: 15916847976.84166\n",
            "Diabetes Dataset - KNN MSE: 3019.075505617978, LWR MSE: 8543.22691353124\n"
          ]
        }
      ]
    },
    {
      "cell_type": "markdown",
      "source": [
        "#Observation:\n",
        "* Housing Dataset: KNN has a lower MSE than LWR, suggesting that KNN performs better in predicting median house values on this dataset.\n",
        "* Diabetes Dataset: KNN again has a lower MSE than LWR, indicating better performance in predicting disease progression.\n",
        "* Overall: Based on MSE, KNN appears to generalize better and provide more accurate predictions compared to LWR for both datasets."
      ],
      "metadata": {
        "id": "ioyQ_3w_TctC"
      }
    },
    {
      "cell_type": "code",
      "source": [],
      "metadata": {
        "id": "r6gjKuOATpYd"
      },
      "execution_count": null,
      "outputs": []
    },
    {
      "cell_type": "code",
      "source": [],
      "metadata": {
        "id": "fAhTF2_tQsIM"
      },
      "execution_count": null,
      "outputs": []
    }
  ]
}