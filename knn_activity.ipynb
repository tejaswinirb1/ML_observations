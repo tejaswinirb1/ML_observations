{
  "nbformat": 4,
  "nbformat_minor": 0,
  "metadata": {
    "colab": {
      "provenance": [],
      "authorship_tag": "ABX9TyOeQQ+MLPYr0I4Zx3vxZ8mD",
      "include_colab_link": true
    },
    "kernelspec": {
      "name": "python3",
      "display_name": "Python 3"
    },
    "language_info": {
      "name": "python"
    }
  },
  "cells": [
    {
      "cell_type": "markdown",
      "metadata": {
        "id": "view-in-github",
        "colab_type": "text"
      },
      "source": [
        "<a href=\"https://colab.research.google.com/github/tejaswinirb1/ML_observations/blob/main/knn_activity.ipynb\" target=\"_parent\"><img src=\"https://colab.research.google.com/assets/colab-badge.svg\" alt=\"Open In Colab\"/></a>"
      ]
    },
    {
      "cell_type": "markdown",
      "source": [
        "#Activity to do:\n",
        "Develop a program to implement k-Nearest Neighbour algorithm to classify the randomly generated 100 values of X in the range of [0 1]. Perform the following based on dataset generated\" a. Label the first 50 points {x1, ..., x50} as follows; if xi <= 0.5 then xi blongs to class C1 else class C2. b. Classify the remaining points {x51, ..., x100} using KNN. Perform this for k = 1,2,3,4,5,20,30."
      ],
      "metadata": {
        "id": "m3RNitKi0w-6"
      }
    },
    {
      "cell_type": "code",
      "source": [
        "from sklearn.datasets import load_iris\n",
        "from sklearn.neighbors import KNeighborsClassifier\n",
        "import numpy as np\n",
        "from sklearn.model_selection import train_test_split\n",
        "import pandas as pd"
      ],
      "metadata": {
        "id": "PJBtLNmf05VU"
      },
      "execution_count": 1,
      "outputs": []
    },
    {
      "cell_type": "code",
      "execution_count": 2,
      "metadata": {
        "id": "XAYFnvr-0sx2"
      },
      "outputs": [],
      "source": [
        "np.random.seed(42)\n",
        "X = np.random.rand(100, 1)"
      ]
    },
    {
      "cell_type": "code",
      "source": [
        "y=np.array( ['C1' if x<=0.5 else 'C2' for x in X[:50]])\n",
        "print(y)"
      ],
      "metadata": {
        "colab": {
          "base_uri": "https://localhost:8080/"
        },
        "id": "nxOENWSz1HZl",
        "outputId": "be5510e1-08bd-47d1-92b9-e03c17949a11"
      },
      "execution_count": 3,
      "outputs": [
        {
          "output_type": "stream",
          "name": "stdout",
          "text": [
            "['C1' 'C2' 'C2' 'C2' 'C1' 'C1' 'C1' 'C2' 'C2' 'C2' 'C1' 'C2' 'C2' 'C1'\n",
            " 'C1' 'C1' 'C1' 'C2' 'C1' 'C1' 'C2' 'C1' 'C1' 'C1' 'C1' 'C2' 'C1' 'C2'\n",
            " 'C2' 'C1' 'C2' 'C1' 'C1' 'C2' 'C2' 'C2' 'C1' 'C1' 'C2' 'C1' 'C1' 'C1'\n",
            " 'C1' 'C2' 'C1' 'C2' 'C1' 'C2' 'C2' 'C1']\n"
          ]
        }
      ]
    },
    {
      "cell_type": "code",
      "source": [
        "X_train=X[:50]\n",
        "y_train=y\n",
        "X_test=X[50:]"
      ],
      "metadata": {
        "id": "Hpi347zX1LIV"
      },
      "execution_count": 4,
      "outputs": []
    },
    {
      "cell_type": "code",
      "source": [
        "knn=KNeighborsClassifier(n_neighbors=1)\n",
        "knn.fit(X_train,y_train)\n",
        "y_pred=knn.predict(X_test)"
      ],
      "metadata": {
        "id": "dxTGlGYH1Pcj"
      },
      "execution_count": 5,
      "outputs": []
    },
    {
      "cell_type": "code",
      "source": [
        "result1=y_pred\n",
        "print(result1)"
      ],
      "metadata": {
        "colab": {
          "base_uri": "https://localhost:8080/"
        },
        "id": "euxKX4Dp1Sr6",
        "outputId": "d54d5cca-539c-452d-df32-bf312280bcac"
      },
      "execution_count": 6,
      "outputs": [
        {
          "output_type": "stream",
          "name": "stdout",
          "text": [
            "['C2' 'C2' 'C2' 'C2' 'C2' 'C2' 'C1' 'C1' 'C1' 'C1' 'C1' 'C1' 'C2' 'C1'\n",
            " 'C1' 'C2' 'C1' 'C2' 'C1' 'C2' 'C2' 'C1' 'C1' 'C2' 'C2' 'C2' 'C2' 'C1'\n",
            " 'C1' 'C1' 'C2' 'C2' 'C1' 'C1' 'C1' 'C1' 'C2' 'C2' 'C2' 'C1' 'C1' 'C2'\n",
            " 'C2' 'C2' 'C2' 'C1' 'C2' 'C1' 'C1' 'C1']\n"
          ]
        }
      ]
    },
    {
      "cell_type": "code",
      "source": [
        "k_values=[2,3,4,5,20,30]\n",
        "result={}\n",
        "for k in k_values:\n",
        "  knn=KNeighborsClassifier(n_neighbors=k)\n",
        "  knn.fit(X_train,y_train)\n",
        "  y_pred=knn.predict(X_test)\n",
        "  result[k]=y_pred\n",
        "  print(f\"result for k={k}\")\n",
        "  print(y_pred)"
      ],
      "metadata": {
        "colab": {
          "base_uri": "https://localhost:8080/"
        },
        "id": "wmSKwU5w1VZr",
        "outputId": "70b3cbbb-aba6-471f-ca4e-6807107d54de"
      },
      "execution_count": 7,
      "outputs": [
        {
          "output_type": "stream",
          "name": "stdout",
          "text": [
            "result for k=2\n",
            "['C2' 'C2' 'C2' 'C2' 'C2' 'C2' 'C1' 'C1' 'C1' 'C1' 'C1' 'C1' 'C2' 'C1'\n",
            " 'C1' 'C2' 'C1' 'C2' 'C1' 'C2' 'C2' 'C1' 'C1' 'C2' 'C2' 'C2' 'C2' 'C1'\n",
            " 'C1' 'C1' 'C2' 'C2' 'C1' 'C1' 'C1' 'C1' 'C2' 'C2' 'C2' 'C1' 'C1' 'C2'\n",
            " 'C2' 'C2' 'C2' 'C1' 'C2' 'C1' 'C1' 'C1']\n",
            "result for k=3\n",
            "['C2' 'C2' 'C2' 'C2' 'C2' 'C2' 'C1' 'C1' 'C1' 'C1' 'C1' 'C1' 'C2' 'C1'\n",
            " 'C1' 'C2' 'C1' 'C2' 'C1' 'C2' 'C2' 'C1' 'C1' 'C2' 'C2' 'C2' 'C2' 'C1'\n",
            " 'C1' 'C1' 'C2' 'C2' 'C1' 'C1' 'C1' 'C1' 'C2' 'C2' 'C2' 'C1' 'C1' 'C2'\n",
            " 'C2' 'C2' 'C2' 'C2' 'C2' 'C1' 'C1' 'C1']\n",
            "result for k=4\n",
            "['C2' 'C2' 'C2' 'C2' 'C2' 'C2' 'C1' 'C1' 'C1' 'C1' 'C1' 'C1' 'C2' 'C1'\n",
            " 'C1' 'C2' 'C1' 'C2' 'C1' 'C2' 'C2' 'C1' 'C1' 'C2' 'C2' 'C2' 'C2' 'C1'\n",
            " 'C1' 'C1' 'C2' 'C2' 'C1' 'C1' 'C1' 'C1' 'C2' 'C2' 'C2' 'C1' 'C1' 'C2'\n",
            " 'C2' 'C2' 'C2' 'C2' 'C2' 'C1' 'C1' 'C1']\n",
            "result for k=5\n",
            "['C2' 'C2' 'C2' 'C2' 'C2' 'C2' 'C1' 'C1' 'C1' 'C1' 'C1' 'C1' 'C2' 'C1'\n",
            " 'C1' 'C2' 'C1' 'C2' 'C1' 'C2' 'C2' 'C1' 'C1' 'C2' 'C2' 'C2' 'C2' 'C1'\n",
            " 'C1' 'C1' 'C2' 'C2' 'C1' 'C1' 'C1' 'C1' 'C2' 'C2' 'C2' 'C1' 'C1' 'C2'\n",
            " 'C2' 'C2' 'C2' 'C2' 'C2' 'C1' 'C1' 'C1']\n",
            "result for k=20\n",
            "['C2' 'C2' 'C2' 'C2' 'C2' 'C2' 'C1' 'C1' 'C1' 'C1' 'C1' 'C1' 'C2' 'C1'\n",
            " 'C1' 'C2' 'C1' 'C2' 'C1' 'C2' 'C2' 'C1' 'C1' 'C2' 'C2' 'C2' 'C2' 'C1'\n",
            " 'C1' 'C1' 'C2' 'C2' 'C1' 'C1' 'C1' 'C1' 'C2' 'C2' 'C2' 'C1' 'C1' 'C2'\n",
            " 'C2' 'C2' 'C2' 'C2' 'C2' 'C1' 'C1' 'C1']\n",
            "result for k=30\n",
            "['C2' 'C2' 'C2' 'C2' 'C2' 'C2' 'C1' 'C1' 'C1' 'C1' 'C1' 'C1' 'C2' 'C1'\n",
            " 'C1' 'C2' 'C1' 'C2' 'C1' 'C2' 'C2' 'C1' 'C1' 'C2' 'C2' 'C2' 'C2' 'C1'\n",
            " 'C1' 'C1' 'C2' 'C2' 'C1' 'C1' 'C1' 'C1' 'C2' 'C2' 'C2' 'C1' 'C1' 'C2'\n",
            " 'C2' 'C2' 'C2' 'C1' 'C2' 'C1' 'C1' 'C1']\n"
          ]
        }
      ]
    },
    {
      "cell_type": "markdown",
      "source": [
        "Observations:\n",
        "\n",
        "* The program creates 100 random data points (X) between\n",
        "0 and 1. It assigns the first 50 points as 'C1' if the value is less than or equal to 0.5, and 'C2' otherwise. This builds the training dataset.\n",
        "\n",
        "* The program employs the K-Nearest Neighbors (KNN) algorithm to predict the class for the remaining 50 data points (test dataset).\n",
        "\n",
        "* The program's essence is trying various values of 'k' (the number of nearest neighbors used for classification). It tries k values of 1, 2, 3, 4, 5, 20, and 30.\n",
        "\n",
        "* For every 'k' value, the program predicts class labels for the test dataset and stores them in a dictionary named 'result'.\n",
        "\n",
        "Outcome:\n",
        "\n",
        "The main output of this program is a list of predictions for the last 50 data points with various 'k' values in the KNN algorithm. The predictions are kept in the result dictionary, where the keys are the 'k' values and the values are the predicted class labels ('C1' or 'C2'). To view the output, execute the code.\n",
        "\n",
        "The program examines the effect of modifying the 'k' value in KNN on the results of classification for a randomly created dataset. Through investigating the predictions across various 'k' values, one can see the effect of this parameter on the performance of the model and perhaps select an optimal 'k' for a specific problem."
      ],
      "metadata": {
        "id": "QPAW1bKG7bD0"
      }
    },
    {
      "cell_type": "code",
      "source": [],
      "metadata": {
        "id": "_edEuUEI1bDa"
      },
      "execution_count": null,
      "outputs": []
    }
  ]
}