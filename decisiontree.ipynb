{
  "nbformat": 4,
  "nbformat_minor": 0,
  "metadata": {
    "colab": {
      "provenance": [],
      "authorship_tag": "ABX9TyMRl+JTNIXvU1Oxs1ShCRQm",
      "include_colab_link": true
    },
    "kernelspec": {
      "name": "python3",
      "display_name": "Python 3"
    },
    "language_info": {
      "name": "python"
    }
  },
  "cells": [
    {
      "cell_type": "markdown",
      "metadata": {
        "id": "view-in-github",
        "colab_type": "text"
      },
      "source": [
        "<a href=\"https://colab.research.google.com/github/tejaswinirb1/ML_observations/blob/main/decisiontree.ipynb\" target=\"_parent\"><img src=\"https://colab.research.google.com/assets/colab-badge.svg\" alt=\"Open In Colab\"/></a>"
      ]
    },
    {
      "cell_type": "code",
      "execution_count": 1,
      "metadata": {
        "colab": {
          "base_uri": "https://localhost:8080/"
        },
        "id": "NcsCia0ABM4_",
        "outputId": "a8c5449b-5bde-4688-e1cc-6d168810f12c"
      },
      "outputs": [
        {
          "output_type": "stream",
          "name": "stdout",
          "text": [
            "Feature Names: ['mean radius' 'mean texture' 'mean perimeter' 'mean area'\n",
            " 'mean smoothness' 'mean compactness' 'mean concavity'\n",
            " 'mean concave points' 'mean symmetry' 'mean fractal dimension'\n",
            " 'radius error' 'texture error' 'perimeter error' 'area error'\n",
            " 'smoothness error' 'compactness error' 'concavity error'\n",
            " 'concave points error' 'symmetry error' 'fractal dimension error'\n",
            " 'worst radius' 'worst texture' 'worst perimeter' 'worst area'\n",
            " 'worst smoothness' 'worst compactness' 'worst concavity'\n",
            " 'worst concave points' 'worst symmetry' 'worst fractal dimension']\n",
            "Target Names: ['malignant' 'benign']\n",
            "\n",
            "Accuracy on test data: 0.95\n",
            "\n",
            "Decision Tree Rules:\n",
            "\n",
            "|--- mean concave points <= 0.05\n",
            "|   |--- worst radius <= 16.83\n",
            "|   |   |--- area error <= 48.70\n",
            "|   |   |   |--- worst texture <= 30.15\n",
            "|   |   |   |   |--- class: 1\n",
            "|   |   |   |--- worst texture >  30.15\n",
            "|   |   |   |   |--- worst radius <= 14.43\n",
            "|   |   |   |   |   |--- class: 1\n",
            "|   |   |   |   |--- worst radius >  14.43\n",
            "|   |   |   |   |   |--- mean perimeter <= 86.26\n",
            "|   |   |   |   |   |   |--- mean texture <= 27.53\n",
            "|   |   |   |   |   |   |   |--- class: 0\n",
            "|   |   |   |   |   |   |--- mean texture >  27.53\n",
            "|   |   |   |   |   |   |   |--- class: 1\n",
            "|   |   |   |   |   |--- mean perimeter >  86.26\n",
            "|   |   |   |   |   |   |--- class: 1\n",
            "|   |   |--- area error >  48.70\n",
            "|   |   |   |--- texture error <= 1.93\n",
            "|   |   |   |   |--- class: 1\n",
            "|   |   |   |--- texture error >  1.93\n",
            "|   |   |   |   |--- class: 0\n",
            "|   |--- worst radius >  16.83\n",
            "|   |   |--- worst texture <= 19.91\n",
            "|   |   |   |--- class: 1\n",
            "|   |   |--- worst texture >  19.91\n",
            "|   |   |   |--- concave points error <= 0.01\n",
            "|   |   |   |   |--- class: 0\n",
            "|   |   |   |--- concave points error >  0.01\n",
            "|   |   |   |   |--- class: 1\n",
            "|--- mean concave points >  0.05\n",
            "|   |--- worst perimeter <= 114.45\n",
            "|   |   |--- worst texture <= 25.65\n",
            "|   |   |   |--- worst concave points <= 0.17\n",
            "|   |   |   |   |--- class: 1\n",
            "|   |   |   |--- worst concave points >  0.17\n",
            "|   |   |   |   |--- class: 0\n",
            "|   |   |--- worst texture >  25.65\n",
            "|   |   |   |--- perimeter error <= 1.56\n",
            "|   |   |   |   |--- mean concave points <= 0.05\n",
            "|   |   |   |   |   |--- class: 0\n",
            "|   |   |   |   |--- mean concave points >  0.05\n",
            "|   |   |   |   |   |--- class: 1\n",
            "|   |   |   |--- perimeter error >  1.56\n",
            "|   |   |   |   |--- class: 0\n",
            "|   |--- worst perimeter >  114.45\n",
            "|   |   |--- class: 0\n",
            "\n",
            "\n",
            "Classifying a new sample:\n",
            "Input features: [1.247e+01 1.860e+01 8.109e+01 4.819e+02 9.965e-02 1.058e-01 8.005e-02\n",
            " 3.821e-02 1.925e-01 6.373e-02 3.961e-01 1.044e+00 2.497e+00 3.029e+01\n",
            " 6.953e-03 1.911e-02 2.701e-02 1.037e-02 1.782e-02 3.586e-03 1.497e+01\n",
            " 2.464e+01 9.605e+01 6.779e+02 1.426e-01 2.378e-01 2.671e-01 1.015e-01\n",
            " 3.014e-01 8.750e-02]\n",
            "Predicted class: benign\n"
          ]
        }
      ],
      "source": [
        "from sklearn.datasets import load_breast_cancer\n",
        "from sklearn.model_selection import train_test_split\n",
        "from sklearn.tree import DecisionTreeClassifier, export_text\n",
        "from sklearn.metrics import accuracy_score\n",
        "import numpy as np\n",
        "\n",
        "# Load the Breast Cancer dataset\n",
        "data = load_breast_cancer()\n",
        "X = data.data\n",
        "y = data.target\n",
        "feature_names = data.feature_names\n",
        "target_names = data.target_names\n",
        "\n",
        "# Display dataset information\n",
        "print(\"Feature Names:\", feature_names)\n",
        "print(\"Target Names:\", target_names)\n",
        "\n",
        "# Split data into training and testing sets\n",
        "X_train, X_test, y_train, y_test = train_test_split(X, y, test_size=0.2, random_state=42)\n",
        "\n",
        "# Create a Decision Tree classifier\n",
        "clf = DecisionTreeClassifier(criterion=\"entropy\", random_state=42)\n",
        "clf.fit(X_train, y_train)\n",
        "\n",
        "# Evaluate the model\n",
        "y_pred = clf.predict(X_test)\n",
        "accuracy = accuracy_score(y_test, y_pred)\n",
        "print(f\"\\nAccuracy on test data: {accuracy:.2f}\")\n",
        "\n",
        "# Show the structure of the tree\n",
        "tree_rules = export_text(clf, feature_names=list(feature_names))\n",
        "print(\"\\nDecision Tree Rules:\\n\")\n",
        "print(tree_rules)\n",
        "\n",
        "# Classify a new sample (you can modify this sample)\n",
        "# For example, take the first test sample\n",
        "new_sample = X_test[0].reshape(1, -1)\n",
        "predicted_class = clf.predict(new_sample)\n",
        "print(\"\\nClassifying a new sample:\")\n",
        "print(\"Input features:\", X_test[0])\n",
        "print(\"Predicted class:\", target_names[predicted_class[0]])\n"
      ]
    },
    {
      "cell_type": "code",
      "source": [],
      "metadata": {
        "id": "fvIaHcfhBS-4"
      },
      "execution_count": null,
      "outputs": []
    }
  ]
}